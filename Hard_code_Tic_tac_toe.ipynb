{
 "cells": [
  {
   "cell_type": "markdown",
   "metadata": {},
   "source": [
    "# Updating the game string"
   ]
  },
  {
   "cell_type": "code",
   "execution_count": 1,
   "metadata": {},
   "outputs": [],
   "source": [
    "def update(game_str, index, symbol):\n",
    "    game_str = symbol.join([game_str[:index-1], game_str[index:]])\n",
    "    return game_str\n",
    "    \n",
    "# game_str = update(game_str, 2, 'X')"
   ]
  },
  {
   "cell_type": "markdown",
   "metadata": {},
   "source": [
    "# Displaying the board"
   ]
  },
  {
   "cell_type": "code",
   "execution_count": 2,
   "metadata": {
    "scrolled": true
   },
   "outputs": [],
   "source": [
    "def display(game_str):\n",
    "    print(\"{} | {} | {}\".format(game_str[0], game_str[1], game_str[2]))\n",
    "    print(\"----------\")\n",
    "    print(\"{} | {} | {}\".format(game_str[3], game_str[4], game_str[5]))\n",
    "    print(\"----------\")\n",
    "    print(\"{} | {} | {}\".format(game_str[6], game_str[7], game_str[8]))\n",
    "    \n",
    "# display(game_str)"
   ]
  },
  {
   "cell_type": "markdown",
   "metadata": {},
   "source": [
    "# Checking the win condition"
   ]
  },
  {
   "cell_type": "code",
   "execution_count": 3,
   "metadata": {},
   "outputs": [
    {
     "data": {
      "text/plain": [
       "'continue'"
      ]
     },
     "execution_count": 3,
     "metadata": {},
     "output_type": "execute_result"
    }
   ],
   "source": [
    "def isWon(game_str, symbol):\n",
    "    if game_str.count('*') == 0:\n",
    "        return \"draw\"\n",
    "    win_index = [(0,1,2), (3,4,5), (6,7,8), (0,3,6), (1,4,7), (2,5,8), (0,4,8), (2,4,6)]\n",
    "    for ind0, ind1, ind2 in win_index:\n",
    "        if (game_str[ind0] == symbol and game_str[ind1] == symbol and game_str[ind2] == symbol):\n",
    "            return \"win\"\n",
    "    return \"continue\"\n",
    "\n",
    "isWon(\"*********\", \"X\")"
   ]
  },
  {
   "cell_type": "markdown",
   "metadata": {},
   "source": [
    "# Fetching the user input"
   ]
  },
  {
   "cell_type": "code",
   "execution_count": 4,
   "metadata": {},
   "outputs": [
    {
     "name": "stdout",
     "output_type": "stream",
     "text": [
      "Enter index (1-9)\n",
      "6\n"
     ]
    },
    {
     "data": {
      "text/plain": [
       "'*****X***'"
      ]
     },
     "execution_count": 4,
     "metadata": {},
     "output_type": "execute_result"
    }
   ],
   "source": [
    "def userInput(game_str):\n",
    "    while True:\n",
    "        index = input(\"Enter index (1-9)\\n\")\n",
    "        try:\n",
    "            index = int(index)\n",
    "            if index in range(1,10):\n",
    "                if game_str[index-1] == '*':\n",
    "                    game_str = update(game_str, index, 'X')\n",
    "                    return game_str\n",
    "                else:\n",
    "                    print(\"Position already taken\")\n",
    "            else:\n",
    "                print(\"Enter number in range\")\n",
    "        except:\n",
    "            print(\"Enter a number\")\n",
    "            \n",
    "userInput(\"*********\")"
   ]
  },
  {
   "cell_type": "markdown",
   "metadata": {},
   "source": [
    "# Random element selection from list"
   ]
  },
  {
   "cell_type": "code",
   "execution_count": 5,
   "metadata": {
    "collapsed": true
   },
   "outputs": [],
   "source": [
    "import random\n",
    "def random_ind(arr):\n",
    "    return random.choice(arr)"
   ]
  },
  {
   "cell_type": "markdown",
   "metadata": {},
   "source": [
    "# Fetching computer move"
   ]
  },
  {
   "cell_type": "code",
   "execution_count": 6,
   "metadata": {
    "scrolled": true
   },
   "outputs": [
    {
     "data": {
      "text/plain": [
       "'O********'"
      ]
     },
     "execution_count": 6,
     "metadata": {},
     "output_type": "execute_result"
    }
   ],
   "source": [
    "def compMove(game_str):\n",
    "    possible_index = []\n",
    "    for ind, symbol in enumerate(game_str):\n",
    "        if symbol == '*':\n",
    "            possible_index.append(ind)\n",
    "    if game_str.count('*') == 0:\n",
    "        return game_str\n",
    "    \n",
    "    for symbol in 'XO':\n",
    "        for ind in possible_index:\n",
    "            temp = update(game_str, ind+1, symbol)\n",
    "            if isWon(temp, symbol) == \"win\":\n",
    "                game_str = update(game_str, ind+1, 'O')\n",
    "                return game_str\n",
    "            \n",
    "    # Corner preference\n",
    "    corners = []\n",
    "    for corner in [0,2,6,8]:\n",
    "        if corner in possible_index:\n",
    "            corners.append(corner)\n",
    "    if len(corners) > 0:\n",
    "        game_str = update(game_str, random_ind(corners)+1, 'O')\n",
    "        return game_str\n",
    "    \n",
    "    # Center Preference\n",
    "    if 4 in possible_index:\n",
    "        game_str = update(game_str, 5, 'O')\n",
    "        return game_str\n",
    "    \n",
    "    # Edge preference\n",
    "    edges = []\n",
    "    for edge in [0,2,6,8]:\n",
    "        if edge in possible_index:\n",
    "            edge.append(edge)\n",
    "    if len(edges) > 0:\n",
    "        game_str = update(game_str, random_ind(edges)+1, 'O')\n",
    "        return game_str\n",
    "        \n",
    "compMove(\"*********\")"
   ]
  },
  {
   "cell_type": "markdown",
   "metadata": {},
   "source": [
    "# Main code"
   ]
  },
  {
   "cell_type": "code",
   "execution_count": 7,
   "metadata": {
    "scrolled": false
   },
   "outputs": [
    {
     "name": "stdout",
     "output_type": "stream",
     "text": [
      "Enter index (1-9)\n",
      "9\n",
      "USER\n",
      "* | * | *\n",
      "----------\n",
      "* | * | *\n",
      "----------\n",
      "* | * | X\n",
      "COMPUTER\n",
      "O | * | *\n",
      "----------\n",
      "* | * | *\n",
      "----------\n",
      "* | * | X\n",
      "Enter index (1-9)\n",
      "7\n",
      "USER\n",
      "O | * | *\n",
      "----------\n",
      "* | * | *\n",
      "----------\n",
      "X | * | X\n",
      "COMPUTER\n",
      "O | * | *\n",
      "----------\n",
      "* | * | *\n",
      "----------\n",
      "X | O | X\n",
      "Enter index (1-9)\n",
      "3\n",
      "USER\n",
      "O | * | X\n",
      "----------\n",
      "* | * | *\n",
      "----------\n",
      "X | O | X\n",
      "COMPUTER\n",
      "O | * | X\n",
      "----------\n",
      "* | O | *\n",
      "----------\n",
      "X | O | X\n",
      "Enter index (1-9)\n",
      "6\n",
      "USER\n",
      "O | * | X\n",
      "----------\n",
      "* | O | X\n",
      "----------\n",
      "X | O | X\n",
      "User wins\n"
     ]
    }
   ],
   "source": [
    "def main():\n",
    "    game_str = ''.join(['*' for i in range(9)])\n",
    "    while True:\n",
    "        game_str = userInput(game_str)\n",
    "        print(\"USER\")\n",
    "        display(game_str)\n",
    "        if isWon(game_str, 'X') == \"win\":\n",
    "            print(\"User wins\")\n",
    "            return\n",
    "        game_str = compMove(game_str)\n",
    "        print(\"COMPUTER\")\n",
    "        display(game_str)\n",
    "        if game_str == \"draw\":\n",
    "            print(\"Game is draw\")\n",
    "            return\n",
    "        if isWon(game_str, 'O') == \"win\":\n",
    "            print(\"Computer wins\")\n",
    "            return\n",
    "        \n",
    "main()"
   ]
  },
  {
   "cell_type": "code",
   "execution_count": null,
   "metadata": {
    "collapsed": true
   },
   "outputs": [],
   "source": []
  }
 ],
 "metadata": {
  "kernelspec": {
   "display_name": "Python 3",
   "language": "python",
   "name": "python3"
  },
  "language_info": {
   "codemirror_mode": {
    "name": "ipython",
    "version": 3
   },
   "file_extension": ".py",
   "mimetype": "text/x-python",
   "name": "python",
   "nbconvert_exporter": "python",
   "pygments_lexer": "ipython3",
   "version": "3.6.1"
  }
 },
 "nbformat": 4,
 "nbformat_minor": 2
}
